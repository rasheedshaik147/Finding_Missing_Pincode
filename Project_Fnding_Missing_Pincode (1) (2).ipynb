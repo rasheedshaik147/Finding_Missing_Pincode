{
 "cells": [
  {
   "cell_type": "code",
   "execution_count": 1,
   "id": "716332a0-ff4b-432a-947d-9c80afa14e21",
   "metadata": {},
   "outputs": [],
   "source": [
    "import pandas as pd\n",
    "import re\n",
    "import time\n",
    "from langchain.chat_models import ChatOpenAI\n",
    "from langchain.schema import SystemMessage, HumanMessage"
   ]
  },
  {
   "cell_type": "code",
   "execution_count": 3,
   "id": "a8a31ac8-e390-4d81-b7b3-712a9e46fd8d",
   "metadata": {},
   "outputs": [],
   "source": [
    "import pandas as pd\n",
    "\n",
    "data = pd.read_excel(\"C:\\\\Users\\\\LENOVO\\\\Downloads\\\\US_addresses.xlsx\")\n"
   ]
  },
  {
   "cell_type": "code",
   "execution_count": null,
   "id": "1044a979-5c0c-4c34-b4cc-04d88b2531eb",
   "metadata": {},
   "outputs": [],
   "source": [
    "# OpenAI API Key (Replace with your actual key)\n",
    "openai_api_key = \"\""
   ]
  },
  {
   "cell_type": "code",
   "execution_count": 5,
   "id": "d5a6d43d-9ceb-47fd-b4a1-2f5b6fcbd355",
   "metadata": {},
   "outputs": [
    {
     "name": "stderr",
     "output_type": "stream",
     "text": [
      "C:\\Users\\LENOVO\\AppData\\Local\\Temp\\ipykernel_14524\\1044613136.py:2: LangChainDeprecationWarning: The class `ChatOpenAI` was deprecated in LangChain 0.0.10 and will be removed in 1.0. An updated version of the class exists in the :class:`~langchain-openai package and should be used instead. To use it run `pip install -U :class:`~langchain-openai` and import as `from :class:`~langchain_openai import ChatOpenAI``.\n",
      "  llm = ChatOpenAI(model_name=\"gpt-4\", openai_api_key=openai_api_key, temperature=0)\n"
     ]
    }
   ],
   "source": [
    "# Initialize OpenAI Model\n",
    "llm = ChatOpenAI(model_name=\"gpt-4\", openai_api_key=openai_api_key, temperature=0)\n"
   ]
  },
  {
   "cell_type": "code",
   "execution_count": 6,
   "id": "cd27a07d-3dda-4ab4-b2e2-6692c3a5cd79",
   "metadata": {},
   "outputs": [],
   "source": [
    "system_message = SystemMessage(\n",
    "    content=\"\"\"\n",
    "You are an expert in Indian geography. Your task is to find the **correct pincode** for a given address.\n",
    "The address contains a **street name, location, and place**.\n",
    "\n",
    "**Example Inputs & Outputs:**\n",
    "    Address: \"MG Road, Bangalore, Karnataka\" → **Pincode: 560001**\n",
    "    Address: \"Sector 15, Gurgaon, Haryana\" → **Pincode: 122001**\n",
    "    Address: \"Connaught Place, Delhi, Delhi\" → **Pincode: 110001**\n",
    "\n",
    " **Rules:**\n",
    "- Extract only the **6-digit** pincode.\n",
    "- Do **not** make up a random pincode.\n",
    "- If unsure, return `\"000000\"`.\n",
    "\n",
    "Here is the given address:\n",
    "\"\"\"\n",
    ")\n"
   ]
  },
  {
   "cell_type": "code",
   "execution_count": 7,
   "id": "a3544ee9-56c1-40b9-9ab2-2c3c66ddf69d",
   "metadata": {},
   "outputs": [],
   "source": [
    "# Function to extract only the pincode from the response\n",
    "def extract_pincode(response):\n",
    "    match = re.search(r'\\b\\d{6}\\b', response)  # Extracts valid 6-digit pincode\n",
    "    return match.group(0) if match else '000000'  # Default if no pincode found"
   ]
  },
  {
   "cell_type": "code",
   "execution_count": 8,
   "id": "c8b0085c-4e52-41b9-8081-a074313b29c5",
   "metadata": {},
   "outputs": [],
   "source": [
    "# Function to fill missing pincodes\n",
    "def fill_missing_pincodes(row):\n",
    "    if pd.isna(row['Pincode']) or row['Pincode'] == '':\n",
    "        address = f\"{row['Street Name']}, {row['Location']}, {row['Place']}\"\n",
    "        \n",
    "        # Human message for the prompt\n",
    "        human_message = HumanMessage(content=f\"Find the correct pincode for based on this address: {address}\")\n",
    "        \n",
    "        try:\n",
    "            response = llm([system_message, human_message]).content  # Get the response from OpenAI\n",
    "            pincode = extract_pincode(response)\n",
    "            return pincode\n",
    "        except Exception as e:\n",
    "            print(f\"Error fetching pincode for {address}: {e}\")\n",
    "            return '000000'  # Default for failures\n",
    "    else:\n",
    "        return row['Pincode']"
   ]
  },
  {
   "cell_type": "code",
   "execution_count": 9,
   "id": "8c54790d-5e6f-4e36-ad52-01783d4c7630",
   "metadata": {},
   "outputs": [],
   "source": [
    "# Apply function to dataframe with a delay to avoid rate limits\n",
    "for i in range(len(data)):\n",
    "    data.loc[i, 'Pincode'] = fill_missing_pincodes(data.iloc[i])\n",
    "    time.sleep(1)  # Prevent hitting API limits"
   ]
  },
  {
   "cell_type": "code",
   "execution_count": 10,
   "id": "b25cd15d-42c6-4123-aec0-4cc59b7a473f",
   "metadata": {},
   "outputs": [
    {
     "name": "stdout",
     "output_type": "stream",
     "text": [
      "Updated dataset saved successfully with integer pincodes.\n"
     ]
    }
   ],
   "source": [
    "\n",
    "\n",
    "# Ensure Pincode is clean before conversion\n",
    "def clean_pincode(value):\n",
    "    try:\n",
    "        return int(float(str(value).strip()))  # Convert to float first, then integer\n",
    "    except ValueError:\n",
    "        return None  # Keep it as None if conversion fails\n",
    "\n",
    "# Apply cleaning function to Pincode column\n",
    "data['Pincode'] = data['Pincode'].apply(clean_pincode)\n",
    "\n",
    "# Save the cleaned dataset\n",
    "data.to_csv('updated_dataset.csv', index=False)\n",
    "\n",
    "print(\"Updated dataset saved successfully with integer pincodes.\")\n"
   ]
  },
  {
   "cell_type": "code",
   "execution_count": null,
   "id": "3c990c6d-a7e9-4d9b-b4c1-6c70e208c1e9",
   "metadata": {},
   "outputs": [],
   "source": []
  }
 ],
 "metadata": {
  "kernelspec": {
   "display_name": "Python 3",
   "language": "python",
   "name": "python3"
  },
  "language_info": {
   "codemirror_mode": {
    "name": "ipython",
    "version": 3
   },
   "file_extension": ".py",
   "mimetype": "text/x-python",
   "name": "python",
   "nbconvert_exporter": "python",
   "pygments_lexer": "ipython3",
   "version": "3.12.2"
  }
 },
 "nbformat": 4,
 "nbformat_minor": 5
}
